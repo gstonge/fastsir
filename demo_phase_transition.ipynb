{
 "cells": [
  {
   "cell_type": "markdown",
   "id": "bb8dc11c-25c9-423c-899e-9c8fe5f14f90",
   "metadata": {},
   "source": [
    "# Demo: Phase transition"
   ]
  },
  {
   "cell_type": "code",
   "execution_count": 1,
   "id": "9676957a-143f-444c-8501-60b31f52ab3f",
   "metadata": {},
   "outputs": [],
   "source": [
    "from fastsir import DiscreteSIR as sir\n",
    "import numpy as np\n",
    "import networkx as nx\n",
    "import matplotlib.pyplot as plt"
   ]
  },
  {
   "cell_type": "markdown",
   "id": "31bfd63d-6fbb-4388-b67c-1dbde4eab57e",
   "metadata": {},
   "source": [
    "## ER graph, simple contagion"
   ]
  },
  {
   "cell_type": "code",
   "execution_count": 2,
   "id": "09034d89-20d3-494d-b818-085957c13c65",
   "metadata": {},
   "outputs": [],
   "source": [
    "#Network parameters\n",
    "N = 50000\n",
    "mean_degree = 10\n",
    "p = mean_degree/(N-1)\n",
    "G = nx.fast_gnp_random_graph(N,p)\n",
    "max_degree = np.max([G.degree(n) for n in G])\n",
    "edgelist = list(G.edges())"
   ]
  },
  {
   "cell_type": "code",
   "execution_count": 3,
   "id": "ecea235c-7c41-49d0-8df8-7ac52c377848",
   "metadata": {},
   "outputs": [],
   "source": [
    "#contagion parameters\n",
    "r = 0.01 #recovery probability\n",
    "recovery_probability = r\n",
    "infection_func = lambda q,k: 1-(1-q)**k\n",
    "qlist = np.linspace(0.0007,0.0015,20)\n",
    "q_crit = recovery_probability*(mean_degree/(mean_degree**2-mean_degree))"
   ]
  },
  {
   "cell_type": "code",
   "execution_count": 4,
   "id": "b2a0ad99-09e4-4245-8a0a-64854c9c5d39",
   "metadata": {},
   "outputs": [],
   "source": [
    "#simulation parameters\n",
    "period = np.inf #simulate until no infected node\n",
    "nb_sample = 100"
   ]
  },
  {
   "cell_type": "markdown",
   "id": "f25bc9dc-b42a-4f5b-ad48-9da157fbfabe",
   "metadata": {},
   "source": [
    "### Simulation"
   ]
  },
  {
   "cell_type": "code",
   "execution_count": 5,
   "id": "93fbb075-e559-400d-ab62-587313d290fc",
   "metadata": {},
   "outputs": [],
   "source": [
    "R_arr = np.zeros((qlist.shape[0],nb_sample)) #results output for order parameter (Number of recovered)\n",
    "for i,q in enumerate(qlist):\n",
    "    #define process object for each q\n",
    "    infection_probability = infection_func(q,np.arange(max_degree+1))\n",
    "    process = sir(edgelist,recovery_probability,infection_probability)\n",
    "    #get sample\n",
    "    for j in range(nb_sample):\n",
    "        initial_infected_nodes = {np.random.randint(N)}\n",
    "        process.infect_node_set(initial_infected_nodes)\n",
    "        process.evolve(period,save_transmission_tree=False,save_macro_state=False) #we do not need to save these\n",
    "        R_arr[i,j] = process.get_current_macro_state()[3] #get number of recovered at the end\n",
    "        process.reset()"
   ]
  },
  {
   "cell_type": "code",
   "execution_count": 6,
   "id": "e85984b5-10b1-47df-b518-efc76ed11b0a",
   "metadata": {},
   "outputs": [],
   "source": [
    "#get mean and std for runs that go above 1% outbreak size\n",
    "R_arr_ma = np.ma.array(R_arr, mask = R_arr <= N/100)\n",
    "R_mean = np.array(R_arr_ma.mean(axis=1))\n",
    "R_std = np.array(R_arr_ma.std(axis=1))"
   ]
  },
  {
   "cell_type": "code",
   "execution_count": 7,
   "id": "e94bf8f5-7262-45fa-9f4d-e9c8eddbea56",
   "metadata": {},
   "outputs": [
    {
     "data": {
      "text/plain": [
       "<matplotlib.legend.Legend at 0x14f65f340>"
      ]
     },
     "execution_count": 7,
     "metadata": {},
     "output_type": "execute_result"
    },
    {
     "data": {
      "image/png": "[encoded data removed]",
      "text/plain": [
       "<Figure size 432x288 with 1 Axes>"
      ]
     },
     "metadata": {
      "needs_background": "light"
     },
     "output_type": "display_data"
    }
   ],
   "source": [
    "plt.errorbar(qlist/r, R_mean, yerr = R_std)\n",
    "plt.axvline(q_crit/r,ls='--',color='grey', label='Theoretical critical value')\n",
    "plt.xlabel(r\"Parameter $q/r$\")\n",
    "plt.ylabel(r\"Outbreak size\")\n",
    "plt.legend(frameon=False)"
   ]
  },
  {
   "cell_type": "markdown",
   "id": "977eb198-0352-4749-8ac8-3a558b7292bd",
   "metadata": {},
   "source": [
    "## Watts-Strogatz, simple contagion"
   ]
  },
  {
   "cell_type": "code",
   "execution_count": 8,
   "id": "49d1be28-417a-4178-b500-157bee98f6bb",
   "metadata": {},
   "outputs": [],
   "source": [
    "#Network parameters\n",
    "N = 50000\n",
    "k = 10 #connected to 10 nearest neighbors\n",
    "p = 0.1\n",
    "G = nx.watts_strogatz_graph(N,k,p)\n",
    "max_degree = np.max([G.degree(n) for n in G])\n",
    "edgelist = list(G.edges())"
   ]
  },
  {
   "cell_type": "code",
   "execution_count": 9,
   "id": "c7655779-29c4-486d-aade-57cd99b0c733",
   "metadata": {},
   "outputs": [],
   "source": [
    "#contagion parameters\n",
    "r = 0.01 #recovery probability\n",
    "recovery_probability = r\n",
    "infection_func = lambda q,k: 1-(1-q)**k\n",
    "qlist = np.linspace(0.001,0.0025,20)\n",
    "q_crit = recovery_probability*(mean_degree/(mean_degree**2-mean_degree))"
   ]
  },
  {
   "cell_type": "code",
   "execution_count": 10,
   "id": "93a62d60-fbc7-4a06-acff-f893e5d1f864",
   "metadata": {},
   "outputs": [],
   "source": [
    "#simulation parameters\n",
    "period = np.inf #simulate until no infected node\n",
    "nb_sample = 100"
   ]
  },
  {
   "cell_type": "code",
   "execution_count": 11,
   "id": "e5487447-bbb0-4698-9955-e5c44b950d67",
   "metadata": {},
   "outputs": [],
   "source": [
    "R_arr = np.zeros((qlist.shape[0],nb_sample)) #results output for order parameter (Number of recovered)\n",
    "for i,q in enumerate(qlist):\n",
    "    #define process object for each q\n",
    "    infection_probability = infection_func(q,np.arange(max_degree+1))\n",
    "    process = sir(edgelist,recovery_probability,infection_probability)\n",
    "    #get sample\n",
    "    for j in range(nb_sample):\n",
    "        initial_infected_nodes = {np.random.randint(N)}\n",
    "        process.infect_node_set(initial_infected_nodes)\n",
    "        process.evolve(period,False,False)\n",
    "        R_arr[i,j] = process.get_current_macro_state()[3] #get number of recovered\n",
    "        process.reset()"
   ]
  },
  {
   "cell_type": "code",
   "execution_count": 12,
   "id": "c42242b0-3719-42c6-8e7f-036a74d7e75f",
   "metadata": {},
   "outputs": [],
   "source": [
    "#get mean and std for runs that go above 1% outbreak size\n",
    "R_arr_ma = np.ma.array(R_arr, mask = R_arr <= N/100)\n",
    "R_mean = np.array(R_arr_ma.mean(axis=1))\n",
    "R_std = np.array(R_arr_ma.std(axis=1))"
   ]
  },
  {
   "cell_type": "code",
   "execution_count": 13,
   "id": "d723cec3-9e50-43c4-ac05-85c84a9385ae",
   "metadata": {},
   "outputs": [
    {
     "data": {
      "text/plain": [
       "<matplotlib.legend.Legend at 0x16bff04c0>"
      ]
     },
     "execution_count": 13,
     "metadata": {},
     "output_type": "execute_result"
    },
    {
     "data": {
      "image/png": "[encoded data removed]",
      "text/plain": [
       "<Figure size 432x288 with 1 Axes>"
      ]
     },
     "metadata": {
      "needs_background": "light"
     },
     "output_type": "display_data"
    }
   ],
   "source": [
    "plt.errorbar(qlist/r, R_mean, yerr = R_std)\n",
    "plt.axvline(q_crit/r,ls='--',color='grey', label='Theoretical critical value \\n (without clustering)')\n",
    "plt.xlabel(r\"Parameter $q/r$\")\n",
    "plt.ylabel(r\"Outbreak size\")\n",
    "plt.legend(frameon=False)"
   ]
  },
  {
   "cell_type": "markdown",
   "id": "8dcb498b-812a-4d66-bcab-0fb1799714c2",
   "metadata": {},
   "source": [
    "As expected, clustering is detrimental to disease spreading (simple contagion)."
   ]
  },
  {
   "cell_type": "markdown",
   "id": "7015108b-7452-4349-9423-d8248b6e310d",
   "metadata": {},
   "source": [
    "## Watts-Strogatz, complex contagion"
   ]
  },
  {
   "cell_type": "code",
   "execution_count": 14,
   "id": "db159ed0-606f-4caf-8c98-3e1b8fda9857",
   "metadata": {},
   "outputs": [],
   "source": [
    "#Network parameters\n",
    "N = 50000\n",
    "m = 10 #connected to 10 nearest neighbors\n",
    "p = 0.4\n",
    "G = nx.watts_strogatz_graph(N,m,p)\n",
    "max_degree = np.max([G.degree(n) for n in G])\n",
    "edgelist = list(G.edges())"
   ]
  },
  {
   "cell_type": "code",
   "execution_count": 15,
   "id": "1360854b-b0ff-40b7-82fb-94e7d24cc395",
   "metadata": {},
   "outputs": [
    {
     "data": {
      "text/plain": [
       "<matplotlib.legend.Legend at 0x14e5ba6b0>"
      ]
     },
     "execution_count": 15,
     "metadata": {},
     "output_type": "execute_result"
    },
    {
     "data": {
      "image/png": "[encoded data removed]",
      "text/plain": [
       "<Figure size 432x288 with 1 Axes>"
      ]
     },
     "metadata": {
      "needs_background": "light"
     },
     "output_type": "display_data"
    }
   ],
   "source": [
    "#show contagion profile\n",
    "infection_func = lambda alpha,q,k: (1-(1-q**(1/alpha))**k)**alpha\n",
    "klist = np.arange(11)\n",
    "for alpha in [0.3,0.5,1,2,3,4]:\n",
    "    plt.loglog(klist,infection_func(alpha,0.001,klist), label=fr\"$\\alpha = {alpha}$\")\n",
    "plt.legend(frameon=False)"
   ]
  },
  {
   "cell_type": "code",
   "execution_count": 16,
   "id": "e7f7e3d2-0c22-4359-8bdd-de0c8e47a4ec",
   "metadata": {},
   "outputs": [],
   "source": [
    "#contagion parameters\n",
    "r = 0.01 #recovery probability\n",
    "recovery_probability = r\n",
    "alpha = 4 #we pick this value\n",
    "qlist = np.linspace(0.0005,0.0012,20)"
   ]
  },
  {
   "cell_type": "code",
   "execution_count": 17,
   "id": "d1e80324-6333-4442-82ca-73a7365561c4",
   "metadata": {},
   "outputs": [],
   "source": [
    "#simulation parameters\n",
    "period = np.inf #simulate until no infected node\n",
    "nb_sample = 100"
   ]
  },
  {
   "cell_type": "code",
   "execution_count": 18,
   "id": "65b71c33-7177-41b5-a14b-220352e6ed99",
   "metadata": {},
   "outputs": [],
   "source": [
    "R_arr = np.zeros((qlist.shape[0],nb_sample)) #results output for order parameter (Number of recovered)\n",
    "for i,q in enumerate(qlist):\n",
    "    #define process object for each q\n",
    "    infection_probability = infection_func(alpha,q,np.arange(max_degree+1))\n",
    "    process = sir(edgelist,recovery_probability,infection_probability)\n",
    "    #get sample\n",
    "    for j in range(nb_sample):\n",
    "        initial_infected_nodes = {np.random.randint(N)}\n",
    "        process.infect_node_set(initial_infected_nodes)\n",
    "        process.evolve(period, False,False)\n",
    "        R_arr[i,j] = process.get_current_macro_state()[3] #get number of recovered\n",
    "        process.reset()"
   ]
  },
  {
   "cell_type": "code",
   "execution_count": 19,
   "id": "6df9dc86-a12e-4470-9dc7-5b22e5cf32ce",
   "metadata": {},
   "outputs": [],
   "source": [
    "#get mean and std for runs that go above 1% outbreak size\n",
    "R_arr_ma = np.ma.array(R_arr, mask = R_arr <= N/100)\n",
    "R_mean = np.array(R_arr_ma.mean(axis=1))\n",
    "R_std = np.array(R_arr_ma.std(axis=1))"
   ]
  },
  {
   "cell_type": "code",
   "execution_count": 20,
   "id": "3e2c274f-3fc9-455b-87a9-6b9978909d3c",
   "metadata": {},
   "outputs": [
    {
     "data": {
      "text/plain": [
       "Text(0, 0.5, 'Outbreak size')"
      ]
     },
     "execution_count": 20,
     "metadata": {},
     "output_type": "execute_result"
    },
    {
     "data": {
      "image/png": "[encoded data removed]",
      "text/plain": [
       "<Figure size 432x288 with 1 Axes>"
      ]
     },
     "metadata": {
      "needs_background": "light"
     },
     "output_type": "display_data"
    }
   ],
   "source": [
    "plt.errorbar(qlist/r, R_mean, yerr = R_std)\n",
    "plt.xlabel(r\"Parameter $q/r$\")\n",
    "plt.ylabel(r\"Outbreak size\")"
   ]
  },
  {
   "cell_type": "markdown",
   "id": "8c5a7e91-b3bf-422e-b691-12964d3894ae",
   "metadata": {},
   "source": [
    "The nonlinear exponent $\\alpha$ helps the spread in clustered populations (reduces the threshold compared to simple contagion). It can also lead to an explosive phase transition (as above), but it depends a lot on the parameters of the contagion and of the structure. In fact, to see an explosive transition, it appears the probability of rewiring $p$ must be at least ~1/5."
   ]
  }
 ],
 "metadata": {
  "kernelspec": {
   "display_name": "Python 3 (ipykernel)",
   "language": "python",
   "name": "python3"
  },
  "language_info": {
   "codemirror_mode": {
    "name": "ipython",
    "version": 3
   },
   "file_extension": ".py",
   "mimetype": "text/x-python",
   "name": "python",
   "nbconvert_exporter": "python",
   "pygments_lexer": "ipython3",
   "version": "3.10.5"
  }
 },
 "nbformat": 4,
 "nbformat_minor": 5
}
