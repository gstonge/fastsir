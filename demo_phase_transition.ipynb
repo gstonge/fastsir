{
 "cells": [
  {
   "cell_type": "markdown",
   "id": "bb8dc11c-25c9-423c-899e-9c8fe5f14f90",
   "metadata": {},
   "source": [
    "# Demo: Phase transition"
   ]
  },
  {
   "cell_type": "code",
   "execution_count": 1,
   "id": "9676957a-143f-444c-8501-60b31f52ab3f",
   "metadata": {},
   "outputs": [],
   "source": [
    "from fastsir import DiscreteSIR as sir\n",
    "import numpy as np\n",
    "import networkx as nx"
   ]
  },
  {
   "cell_type": "markdown",
   "id": "31bfd63d-6fbb-4388-b67c-1dbde4eab57e",
   "metadata": {},
   "source": [
    "## ER graph, simple contagion"
   ]
  },
  {
   "cell_type": "code",
   "execution_count": 2,
   "id": "09034d89-20d3-494d-b818-085957c13c65",
   "metadata": {},
   "outputs": [],
   "source": [
    "#Network parameters\n",
    "N = 1000\n",
    "mean_degree = 10\n",
    "p = mean_degree/(N-1)\n",
    "G = nx.erdos_renyi_graph(N,p)\n",
    "max_degree = np.max([G.degree(n) for n in G])\n",
    "edgelist = list(G.edges())"
   ]
  },
  {
   "cell_type": "code",
   "execution_count": 3,
   "id": "ecea235c-7c41-49d0-8df8-7ac52c377848",
   "metadata": {},
   "outputs": [],
   "source": [
    "#contagion parameters\n",
    "recovery_probability = 1\n",
    "infection_func = lambda q,k: 1-(1-q)**k\n",
    "qlist = np.linspace(0.05,0.2,20)"
   ]
  },
  {
   "cell_type": "code",
   "execution_count": 4,
   "id": "b2a0ad99-09e4-4245-8a0a-64854c9c5d39",
   "metadata": {},
   "outputs": [],
   "source": [
    "#simulation parameters\n",
    "period = 10 #simulate until no infected node\n",
    "nb_sample = 1"
   ]
  },
  {
   "cell_type": "markdown",
   "id": "f25bc9dc-b42a-4f5b-ad48-9da157fbfabe",
   "metadata": {},
   "source": [
    "### Simulation"
   ]
  },
  {
   "cell_type": "code",
   "execution_count": 5,
   "id": "c1e63813-e080-484e-a100-c01ce4f0ff19",
   "metadata": {},
   "outputs": [],
   "source": [
    "R_arr = np.zeros((qlist.shape[0],nb_sample)) #results output for order parameter"
   ]
  },
  {
   "cell_type": "code",
   "execution_count": 6,
   "id": "65d35f93-2a15-4cfa-b7e0-e990fab3fc87",
   "metadata": {},
   "outputs": [],
   "source": [
    "#test\n",
    "infection_probability = infection_func(qlist[2],np.arange(max_degree+1))\n",
    "process = sir(edgelist,recovery_probability,infection_probability)\n",
    "initial_infected_nodes = {np.random.randint(N)}\n",
    "process.infect_node_set(initial_infected_nodes)"
   ]
  },
  {
   "cell_type": "code",
   "execution_count": 7,
   "id": "670206f9-df35-488e-bfed-baf2b5a0225c",
   "metadata": {},
   "outputs": [
    {
     "data": {
      "text/plain": [
       "(2.0, 997, 1, 2)"
      ]
     },
     "execution_count": 7,
     "metadata": {},
     "output_type": "execute_result"
    }
   ],
   "source": [
    "process.evolve(2)\n",
    "process.get_current_macro_state()"
   ]
  },
  {
   "cell_type": "code",
   "execution_count": 8,
   "id": "363a8f0c-7717-4845-a473-152945fc1aff",
   "metadata": {},
   "outputs": [
    {
     "data": {
      "text/plain": [
       "[(0.0, 999, 1, 0), (1.0, 998, 1, 1), (2.0, 997, 1, 2)]"
      ]
     },
     "execution_count": 8,
     "metadata": {},
     "output_type": "execute_result"
    }
   ],
   "source": [
    "process.get_macro_state_vector()"
   ]
  },
  {
   "cell_type": "code",
   "execution_count": 9,
   "id": "93fbb075-e559-400d-ab62-587313d290fc",
   "metadata": {},
   "outputs": [
    {
     "name": "stdout",
     "output_type": "stream",
     "text": [
      "0\n",
      "0\n",
      "1\n",
      "0\n",
      "2\n",
      "0\n"
     ]
    },
    {
     "ename": "RuntimeError",
     "evalue": "Recovery attempt: the node is not infected",
     "output_type": "error",
     "traceback": [
      "\u001b[0;31m---------------------------------------------------------------------------\u001b[0m",
      "\u001b[0;31mRuntimeError\u001b[0m                              Traceback (most recent call last)",
      "Input \u001b[0;32mIn [9]\u001b[0m, in \u001b[0;36m<cell line: 1>\u001b[0;34m()\u001b[0m\n\u001b[1;32m     11\u001b[0m process\u001b[38;5;241m.\u001b[39mevolve(period)\n\u001b[1;32m     12\u001b[0m R_arr[i,j] \u001b[38;5;241m=\u001b[39m process\u001b[38;5;241m.\u001b[39mget_current_macro_state()[\u001b[38;5;241m3\u001b[39m] \u001b[38;5;66;03m#get number of recovered\u001b[39;00m\n\u001b[0;32m---> 13\u001b[0m \u001b[43mprocess\u001b[49m\u001b[38;5;241;43m.\u001b[39;49m\u001b[43mreset\u001b[49m\u001b[43m(\u001b[49m\u001b[43m)\u001b[49m\n",
      "\u001b[0;31mRuntimeError\u001b[0m: Recovery attempt: the node is not infected"
     ]
    }
   ],
   "source": [
    "for i,q in enumerate(qlist):\n",
    "    print(i)\n",
    "    #define process object for each q\n",
    "    infection_probability = infection_func(q,np.arange(max_degree+1))\n",
    "    process = sir(edgelist,recovery_probability,infection_probability)\n",
    "    #get sample\n",
    "    for j in range(nb_sample):\n",
    "        print(j)\n",
    "        initial_infected_nodes = {np.random.randint(N)}\n",
    "        process.infect_node_set(initial_infected_nodes)\n",
    "        process.evolve(period)\n",
    "        R_arr[i,j] = process.get_current_macro_state()[3] #get number of recovered\n",
    "        process.reset()"
   ]
  },
  {
   "cell_type": "code",
   "execution_count": null,
   "id": "e85984b5-10b1-47df-b518-efc76ed11b0a",
   "metadata": {},
   "outputs": [],
   "source": [
    "R_arr"
   ]
  }
 ],
 "metadata": {
  "kernelspec": {
   "display_name": "Python 3 (ipykernel)",
   "language": "python",
   "name": "python3"
  },
  "language_info": {
   "codemirror_mode": {
    "name": "ipython",
    "version": 3
   },
   "file_extension": ".py",
   "mimetype": "text/x-python",
   "name": "python",
   "nbconvert_exporter": "python",
   "pygments_lexer": "ipython3",
   "version": "3.10.5"
  }
 },
 "nbformat": 4,
 "nbformat_minor": 5
}
